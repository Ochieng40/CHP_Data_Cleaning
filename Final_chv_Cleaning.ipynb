{
  "cells": [
    {
      "cell_type": "code",
      "execution_count": null,
      "metadata": {
        "id": "38FrGqAYtTfQ"
      },
      "outputs": [],
      "source": [
        "# This code allows or prompts you to allow Collab to access the Drive\n",
        "\n",
        "from google.colab import auth\n",
        "auth.authenticate_user()\n",
        "\n",
        "import gspread\n",
        "from google.auth import default\n",
        "creds, _ = default()\n",
        "\n",
        "gc = gspread.authorize(creds)"
      ]
    },
    {
      "cell_type": "code",
      "execution_count": null,
      "metadata": {
        "id": "7ejMtLHLtULU"
      },
      "outputs": [],
      "source": [
        "# Import packages\n",
        "import pandas as pd\n",
        "import numpy as np\n",
        "import pandas as pd\n",
        "import gdown"
      ]
    },
    {
      "cell_type": "code",
      "execution_count": null,
      "metadata": {
        "id": "ZVi3Z74FtaCO"
      },
      "outputs": [],
      "source": [
        "# Here I opened the Google Sheets workbook\n",
        "spreadsheet = gc.open('CHV_Enrollments_20230601')\n",
        "\n",
        "# Then accessed the two worksheets within the same workbook\n",
        "worksheet1 = spreadsheet.worksheet('CHV_Enrollments_Tracker')\n",
        "worksheet2 = spreadsheet.worksheet('TharakaNithi_CHV_Enrollments_Tracker')"
      ]
    },
    {
      "cell_type": "code",
      "execution_count": null,
      "metadata": {
        "id": "rhDG3_Att0pL"
      },
      "outputs": [],
      "source": [
        "# We first start by reading data from the first worksheet\n",
        "rows = worksheet1.get_all_values()\n",
        "df = pd.DataFrame.from_records(rows[1:], columns=rows[0])\n",
        "\n",
        "# Read data from the second worksheet\n",
        "rows2 = worksheet2.get_all_values()\n",
        "df_2 = pd.DataFrame.from_records(rows2[1:], columns=rows2[0])"
      ]
    },
    {
      "cell_type": "code",
      "execution_count": null,
      "metadata": {
        "id": "3GxzhcTtnRgg"
      },
      "outputs": [],
      "source": [
        "# Here I opened the Google Sheets workbook for the db with all facility names\n",
        "spreadsheet2 = gc.open('Master_List_Facilities_Ochieng')\n",
        "\n",
        "# Then accessed the needed worksheet in the workbook\n",
        "worksheetb = spreadsheet2.worksheet('HF_Data')\n"
      ]
    },
    {
      "cell_type": "code",
      "execution_count": null,
      "metadata": {
        "id": "3ETbX-NCsb0j"
      },
      "outputs": [],
      "source": [
        "import pandas as pd\n",
        "# The master facility list is quite large so I had to process it in batches to upload it.\n",
        "\n",
        "# First I initialized an empty list to store data chunks\n",
        "data_chunks = []\n",
        "\n",
        "# Define the batch size (adjust as needed based on available memory)\n",
        "batch_size = 1000\n",
        "\n",
        "# Read and process the data in batches\n",
        "for i in range(0, worksheetb.row_count, batch_size):\n",
        "    # Read a batch of rows\n",
        "    rows_chunk = worksheetb.get_all_values()[i:i+batch_size]\n",
        "\n",
        "    # Create a DataFrame for the batch\n",
        "    data_chunk = pd.DataFrame.from_records(rows_chunk)\n",
        "\n",
        "    data_chunks.append(data_chunk)\n",
        "\n",
        "# Concatenate all the data chunks into a single DataFrame\n",
        "df_HF = pd.concat(data_chunks, ignore_index=True)\n",
        "\n",
        "# Set the first row as the column names\n",
        "df_HF.columns = df_HF.iloc[0]\n",
        "\n",
        "# Remove the first row (old column names)\n",
        "df_HF = df_HF[1:]\n"
      ]
    },
    {
      "cell_type": "code",
      "execution_count": null,
      "metadata": {
        "colab": {
          "base_uri": "https://localhost:8080/",
          "height": 206
        },
        "id": "b7JAbwKasj-n",
        "outputId": "8d17b0ec-36d3-4431-d34b-76772c9c4d8a"
      },
      "outputs": [
        {
          "data": {
            "text/html": [
              "\n",
              "  <div id=\"df-c3274552-17b5-45e6-8c5b-d82063f7778d\" class=\"colab-df-container\">\n",
              "    <div>\n",
              "<style scoped>\n",
              "    .dataframe tbody tr th:only-of-type {\n",
              "        vertical-align: middle;\n",
              "    }\n",
              "\n",
              "    .dataframe tbody tr th {\n",
              "        vertical-align: top;\n",
              "    }\n",
              "\n",
              "    .dataframe thead th {\n",
              "        text-align: right;\n",
              "    }\n",
              "</style>\n",
              "<table border=\"1\" class=\"dataframe\">\n",
              "  <thead>\n",
              "    <tr style=\"text-align: right;\">\n",
              "      <th></th>\n",
              "      <th>County</th>\n",
              "      <th>Sub County</th>\n",
              "      <th>Facility_Name_KHIS</th>\n",
              "      <th>Facility Code</th>\n",
              "      <th>Level</th>\n",
              "    </tr>\n",
              "  </thead>\n",
              "  <tbody>\n",
              "    <tr>\n",
              "      <th>1</th>\n",
              "      <td>Bungoma</td>\n",
              "      <td>Kimilili</td>\n",
              "      <td>Bahai Dispensary</td>\n",
              "      <td>17190</td>\n",
              "      <td>2</td>\n",
              "    </tr>\n",
              "    <tr>\n",
              "      <th>2</th>\n",
              "      <td>Bungoma</td>\n",
              "      <td>Webuye West</td>\n",
              "      <td>Bokoli Hospital</td>\n",
              "      <td>15808</td>\n",
              "      <td></td>\n",
              "    </tr>\n",
              "    <tr>\n",
              "      <th>3</th>\n",
              "      <td>Bungoma</td>\n",
              "      <td>Kanduyi</td>\n",
              "      <td>Bukembe Dispensary</td>\n",
              "      <td>15819</td>\n",
              "      <td>2</td>\n",
              "    </tr>\n",
              "    <tr>\n",
              "      <th>4</th>\n",
              "      <td>Bungoma</td>\n",
              "      <td>Kanduyi</td>\n",
              "      <td>Bulondo Dispensary</td>\n",
              "      <td>15821</td>\n",
              "      <td>2</td>\n",
              "    </tr>\n",
              "    <tr>\n",
              "      <th>5</th>\n",
              "      <td>Bungoma</td>\n",
              "      <td>Bumula</td>\n",
              "      <td>Bumula Sub County Hospital</td>\n",
              "      <td>15825</td>\n",
              "      <td>4</td>\n",
              "    </tr>\n",
              "  </tbody>\n",
              "</table>\n",
              "</div>\n",
              "    <div class=\"colab-df-buttons\">\n",
              "\n",
              "  <div class=\"colab-df-container\">\n",
              "    <button class=\"colab-df-convert\" onclick=\"convertToInteractive('df-c3274552-17b5-45e6-8c5b-d82063f7778d')\"\n",
              "            title=\"Convert this dataframe to an interactive table.\"\n",
              "            style=\"display:none;\">\n",
              "\n",
              "  <svg xmlns=\"http://www.w3.org/2000/svg\" height=\"24px\" viewBox=\"0 -960 960 960\">\n",
              "    <path d=\"M120-120v-720h720v720H120Zm60-500h600v-160H180v160Zm220 220h160v-160H400v160Zm0 220h160v-160H400v160ZM180-400h160v-160H180v160Zm440 0h160v-160H620v160ZM180-180h160v-160H180v160Zm440 0h160v-160H620v160Z\"/>\n",
              "  </svg>\n",
              "    </button>\n",
              "\n",
              "  <style>\n",
              "    .colab-df-container {\n",
              "      display:flex;\n",
              "      gap: 12px;\n",
              "    }\n",
              "\n",
              "    .colab-df-convert {\n",
              "      background-color: #E8F0FE;\n",
              "      border: none;\n",
              "      border-radius: 50%;\n",
              "      cursor: pointer;\n",
              "      display: none;\n",
              "      fill: #1967D2;\n",
              "      height: 32px;\n",
              "      padding: 0 0 0 0;\n",
              "      width: 32px;\n",
              "    }\n",
              "\n",
              "    .colab-df-convert:hover {\n",
              "      background-color: #E2EBFA;\n",
              "      box-shadow: 0px 1px 2px rgba(60, 64, 67, 0.3), 0px 1px 3px 1px rgba(60, 64, 67, 0.15);\n",
              "      fill: #174EA6;\n",
              "    }\n",
              "\n",
              "    .colab-df-buttons div {\n",
              "      margin-bottom: 4px;\n",
              "    }\n",
              "\n",
              "    [theme=dark] .colab-df-convert {\n",
              "      background-color: #3B4455;\n",
              "      fill: #D2E3FC;\n",
              "    }\n",
              "\n",
              "    [theme=dark] .colab-df-convert:hover {\n",
              "      background-color: #434B5C;\n",
              "      box-shadow: 0px 1px 3px 1px rgba(0, 0, 0, 0.15);\n",
              "      filter: drop-shadow(0px 1px 2px rgba(0, 0, 0, 0.3));\n",
              "      fill: #FFFFFF;\n",
              "    }\n",
              "  </style>\n",
              "\n",
              "    <script>\n",
              "      const buttonEl =\n",
              "        document.querySelector('#df-c3274552-17b5-45e6-8c5b-d82063f7778d button.colab-df-convert');\n",
              "      buttonEl.style.display =\n",
              "        google.colab.kernel.accessAllowed ? 'block' : 'none';\n",
              "\n",
              "      async function convertToInteractive(key) {\n",
              "        const element = document.querySelector('#df-c3274552-17b5-45e6-8c5b-d82063f7778d');\n",
              "        const dataTable =\n",
              "          await google.colab.kernel.invokeFunction('convertToInteractive',\n",
              "                                                    [key], {});\n",
              "        if (!dataTable) return;\n",
              "\n",
              "        const docLinkHtml = 'Like what you see? Visit the ' +\n",
              "          '<a target=\"_blank\" href=https://colab.research.google.com/notebooks/data_table.ipynb>data table notebook</a>'\n",
              "          + ' to learn more about interactive tables.';\n",
              "        element.innerHTML = '';\n",
              "        dataTable['output_type'] = 'display_data';\n",
              "        await google.colab.output.renderOutput(dataTable, element);\n",
              "        const docLink = document.createElement('div');\n",
              "        docLink.innerHTML = docLinkHtml;\n",
              "        element.appendChild(docLink);\n",
              "      }\n",
              "    </script>\n",
              "  </div>\n",
              "\n",
              "\n",
              "<div id=\"df-a3e92573-9b0f-4f4e-821a-5f650123511b\">\n",
              "  <button class=\"colab-df-quickchart\" onclick=\"quickchart('df-a3e92573-9b0f-4f4e-821a-5f650123511b')\"\n",
              "            title=\"Suggest charts.\"\n",
              "            style=\"display:none;\">\n",
              "\n",
              "<svg xmlns=\"http://www.w3.org/2000/svg\" height=\"24px\"viewBox=\"0 0 24 24\"\n",
              "     width=\"24px\">\n",
              "    <g>\n",
              "        <path d=\"M19 3H5c-1.1 0-2 .9-2 2v14c0 1.1.9 2 2 2h14c1.1 0 2-.9 2-2V5c0-1.1-.9-2-2-2zM9 17H7v-7h2v7zm4 0h-2V7h2v10zm4 0h-2v-4h2v4z\"/>\n",
              "    </g>\n",
              "</svg>\n",
              "  </button>\n",
              "\n",
              "<style>\n",
              "  .colab-df-quickchart {\n",
              "      --bg-color: #E8F0FE;\n",
              "      --fill-color: #1967D2;\n",
              "      --hover-bg-color: #E2EBFA;\n",
              "      --hover-fill-color: #174EA6;\n",
              "      --disabled-fill-color: #AAA;\n",
              "      --disabled-bg-color: #DDD;\n",
              "  }\n",
              "\n",
              "  [theme=dark] .colab-df-quickchart {\n",
              "      --bg-color: #3B4455;\n",
              "      --fill-color: #D2E3FC;\n",
              "      --hover-bg-color: #434B5C;\n",
              "      --hover-fill-color: #FFFFFF;\n",
              "      --disabled-bg-color: #3B4455;\n",
              "      --disabled-fill-color: #666;\n",
              "  }\n",
              "\n",
              "  .colab-df-quickchart {\n",
              "    background-color: var(--bg-color);\n",
              "    border: none;\n",
              "    border-radius: 50%;\n",
              "    cursor: pointer;\n",
              "    display: none;\n",
              "    fill: var(--fill-color);\n",
              "    height: 32px;\n",
              "    padding: 0;\n",
              "    width: 32px;\n",
              "  }\n",
              "\n",
              "  .colab-df-quickchart:hover {\n",
              "    background-color: var(--hover-bg-color);\n",
              "    box-shadow: 0 1px 2px rgba(60, 64, 67, 0.3), 0 1px 3px 1px rgba(60, 64, 67, 0.15);\n",
              "    fill: var(--button-hover-fill-color);\n",
              "  }\n",
              "\n",
              "  .colab-df-quickchart-complete:disabled,\n",
              "  .colab-df-quickchart-complete:disabled:hover {\n",
              "    background-color: var(--disabled-bg-color);\n",
              "    fill: var(--disabled-fill-color);\n",
              "    box-shadow: none;\n",
              "  }\n",
              "\n",
              "  .colab-df-spinner {\n",
              "    border: 2px solid var(--fill-color);\n",
              "    border-color: transparent;\n",
              "    border-bottom-color: var(--fill-color);\n",
              "    animation:\n",
              "      spin 1s steps(1) infinite;\n",
              "  }\n",
              "\n",
              "  @keyframes spin {\n",
              "    0% {\n",
              "      border-color: transparent;\n",
              "      border-bottom-color: var(--fill-color);\n",
              "      border-left-color: var(--fill-color);\n",
              "    }\n",
              "    20% {\n",
              "      border-color: transparent;\n",
              "      border-left-color: var(--fill-color);\n",
              "      border-top-color: var(--fill-color);\n",
              "    }\n",
              "    30% {\n",
              "      border-color: transparent;\n",
              "      border-left-color: var(--fill-color);\n",
              "      border-top-color: var(--fill-color);\n",
              "      border-right-color: var(--fill-color);\n",
              "    }\n",
              "    40% {\n",
              "      border-color: transparent;\n",
              "      border-right-color: var(--fill-color);\n",
              "      border-top-color: var(--fill-color);\n",
              "    }\n",
              "    60% {\n",
              "      border-color: transparent;\n",
              "      border-right-color: var(--fill-color);\n",
              "    }\n",
              "    80% {\n",
              "      border-color: transparent;\n",
              "      border-right-color: var(--fill-color);\n",
              "      border-bottom-color: var(--fill-color);\n",
              "    }\n",
              "    90% {\n",
              "      border-color: transparent;\n",
              "      border-bottom-color: var(--fill-color);\n",
              "    }\n",
              "  }\n",
              "</style>\n",
              "\n",
              "  <script>\n",
              "    async function quickchart(key) {\n",
              "      const quickchartButtonEl =\n",
              "        document.querySelector('#' + key + ' button');\n",
              "      quickchartButtonEl.disabled = true;  // To prevent multiple clicks.\n",
              "      quickchartButtonEl.classList.add('colab-df-spinner');\n",
              "      try {\n",
              "        const charts = await google.colab.kernel.invokeFunction(\n",
              "            'suggestCharts', [key], {});\n",
              "      } catch (error) {\n",
              "        console.error('Error during call to suggestCharts:', error);\n",
              "      }\n",
              "      quickchartButtonEl.classList.remove('colab-df-spinner');\n",
              "      quickchartButtonEl.classList.add('colab-df-quickchart-complete');\n",
              "    }\n",
              "    (() => {\n",
              "      let quickchartButtonEl =\n",
              "        document.querySelector('#df-a3e92573-9b0f-4f4e-821a-5f650123511b button');\n",
              "      quickchartButtonEl.style.display =\n",
              "        google.colab.kernel.accessAllowed ? 'block' : 'none';\n",
              "    })();\n",
              "  </script>\n",
              "</div>\n",
              "    </div>\n",
              "  </div>\n"
            ],
            "text/plain": [
              "0   County   Sub County          Facility_Name_KHIS Facility Code Level\n",
              "1  Bungoma     Kimilili            Bahai Dispensary         17190     2\n",
              "2  Bungoma  Webuye West             Bokoli Hospital         15808      \n",
              "3  Bungoma      Kanduyi          Bukembe Dispensary         15819     2\n",
              "4  Bungoma      Kanduyi          Bulondo Dispensary         15821     2\n",
              "5  Bungoma       Bumula  Bumula Sub County Hospital         15825     4"
            ]
          },
          "execution_count": 7,
          "metadata": {},
          "output_type": "execute_result"
        }
      ],
      "source": [
        "df_HF.head(5)"
      ]
    },
    {
      "cell_type": "code",
      "execution_count": null,
      "metadata": {
        "id": "djWZaiXAQDKS"
      },
      "outputs": [],
      "source": [
        "# We then combined the 'TharakaNithi_CHV_Enrollments_Tracker' data and the main data 'CHV_Enrollments_Tracker'\n",
        "\n",
        "df_clean = pd.concat([df, df_2], axis=0, ignore_index=True)"
      ]
    },
    {
      "cell_type": "code",
      "execution_count": null,
      "metadata": {
        "colab": {
          "base_uri": "https://localhost:8080/"
        },
        "id": "LHmhJOkEQU8J",
        "outputId": "2306cc41-eabe-4a19-e028-8235201d30a9"
      },
      "outputs": [
        {
          "name": "stdout",
          "output_type": "stream",
          "text": [
            "Number of Rows: 6958\n",
            "Number of Columns: 14\n"
          ]
        }
      ],
      "source": [
        "num_rows, num_columns = df_clean.shape\n",
        "\n",
        "print(f\"Number of Rows: {num_rows}\")\n",
        "print(f\"Number of Columns: {num_columns}\")"
      ]
    },
    {
      "cell_type": "code",
      "execution_count": null,
      "metadata": {
        "colab": {
          "base_uri": "https://localhost:8080/"
        },
        "id": "3UExwAe1QbAL",
        "outputId": "6ac0ef3e-a364-400d-c9fb-34721afeda55"
      },
      "outputs": [
        {
          "name": "stdout",
          "output_type": "stream",
          "text": [
            "Total number of duplicated values based on 'contact' field: 484\n"
          ]
        }
      ],
      "source": [
        "# We want to check the total number of duplicated values based on the contact field\n",
        "\n",
        "duplicate_count = df_clean['Contact'].duplicated().sum()\n",
        "\n",
        "print(f\"Total number of duplicated values based on 'contact' field: {duplicate_count}\")\n"
      ]
    },
    {
      "cell_type": "code",
      "execution_count": null,
      "metadata": {
        "colab": {
          "base_uri": "https://localhost:8080/"
        },
        "id": "Vq5G63ZodaJN",
        "outputId": "084dd8ac-b5f2-4c46-d407-cecdad748f12"
      },
      "outputs": [
        {
          "name": "stdout",
          "output_type": "stream",
          "text": [
            "Number of Rows: 17385\n",
            "Number of Columns: 5\n"
          ]
        }
      ],
      "source": [
        "num_rows, num_columns = df_HF.shape\n",
        "\n",
        "print(f\"Number of Rows: {num_rows}\")\n",
        "print(f\"Number of Columns: {num_columns}\")"
      ]
    },
    {
      "cell_type": "code",
      "execution_count": null,
      "metadata": {
        "colab": {
          "base_uri": "https://localhost:8080/"
        },
        "id": "kNrxOR35wpWj",
        "outputId": "db7fce22-5720-4b9d-9e03-63501dd8424f"
      },
      "outputs": [
        {
          "name": "stdout",
          "output_type": "stream",
          "text": [
            "Collecting fuzzywuzzy\n",
            "  Downloading fuzzywuzzy-0.18.0-py2.py3-none-any.whl (18 kB)\n",
            "Installing collected packages: fuzzywuzzy\n",
            "Successfully installed fuzzywuzzy-0.18.0\n"
          ]
        }
      ],
      "source": [
        "pip install fuzzywuzzy"
      ]
    },
    {
      "cell_type": "code",
      "execution_count": null,
      "metadata": {
        "colab": {
          "base_uri": "https://localhost:8080/"
        },
        "id": "pP5u8s2cxqsn",
        "outputId": "2785ad00-02d2-4c9d-f11a-4f57ea27ed3d"
      },
      "outputs": [
        {
          "name": "stdout",
          "output_type": "stream",
          "text": [
            "Collecting python-Levenshtein\n",
            "  Downloading python_Levenshtein-0.23.0-py3-none-any.whl (9.4 kB)\n",
            "Collecting Levenshtein==0.23.0 (from python-Levenshtein)\n",
            "  Downloading Levenshtein-0.23.0-cp310-cp310-manylinux_2_17_x86_64.manylinux2014_x86_64.whl (169 kB)\n",
            "\u001b[2K     \u001b[90m━━━━━━━━━━━━━━━━━━━━━━━━━━━━━━━━━━━━━━━━\u001b[0m \u001b[32m169.4/169.4 kB\u001b[0m \u001b[31m3.1 MB/s\u001b[0m eta \u001b[36m0:00:00\u001b[0m\n",
            "\u001b[?25hCollecting rapidfuzz<4.0.0,>=3.1.0 (from Levenshtein==0.23.0->python-Levenshtein)\n",
            "  Downloading rapidfuzz-3.4.0-cp310-cp310-manylinux_2_17_x86_64.manylinux2014_x86_64.whl (3.2 MB)\n",
            "\u001b[2K     \u001b[90m━━━━━━━━━━━━━━━━━━━━━━━━━━━━━━━━━━━━━━━━\u001b[0m \u001b[32m3.2/3.2 MB\u001b[0m \u001b[31m47.6 MB/s\u001b[0m eta \u001b[36m0:00:00\u001b[0m\n",
            "\u001b[?25hInstalling collected packages: rapidfuzz, Levenshtein, python-Levenshtein\n",
            "Successfully installed Levenshtein-0.23.0 python-Levenshtein-0.23.0 rapidfuzz-3.4.0\n"
          ]
        }
      ],
      "source": [
        "pip install python-Levenshtein\n"
      ]
    },
    {
      "cell_type": "code",
      "execution_count": null,
      "metadata": {
        "colab": {
          "base_uri": "https://localhost:8080/"
        },
        "id": "0aZOtNjMlCkm",
        "outputId": "fc8e79b8-bd4b-4e63-b235-f6609f3ce76d"
      },
      "outputs": [
        {
          "name": "stdout",
          "output_type": "stream",
          "text": [
            "Requirement already satisfied: rapidfuzz in /usr/local/lib/python3.10/dist-packages (3.4.0)\n"
          ]
        }
      ],
      "source": [
        "pip install rapidfuzz"
      ]
    },
    {
      "cell_type": "code",
      "execution_count": null,
      "metadata": {
        "colab": {
          "base_uri": "https://localhost:8080/"
        },
        "id": "XIszFVDqM94x",
        "outputId": "16f670c2-7fe0-4457-81eb-0dd9efa857a8"
      },
      "outputs": [
        {
          "name": "stdout",
          "output_type": "stream",
          "text": [
            "Requirement already satisfied: torch in /usr/local/lib/python3.10/dist-packages (2.1.0+cu118)\n",
            "Requirement already satisfied: filelock in /usr/local/lib/python3.10/dist-packages (from torch) (3.12.4)\n",
            "Requirement already satisfied: typing-extensions in /usr/local/lib/python3.10/dist-packages (from torch) (4.5.0)\n",
            "Requirement already satisfied: sympy in /usr/local/lib/python3.10/dist-packages (from torch) (1.12)\n",
            "Requirement already satisfied: networkx in /usr/local/lib/python3.10/dist-packages (from torch) (3.2)\n",
            "Requirement already satisfied: jinja2 in /usr/local/lib/python3.10/dist-packages (from torch) (3.1.2)\n",
            "Requirement already satisfied: fsspec in /usr/local/lib/python3.10/dist-packages (from torch) (2023.6.0)\n",
            "Requirement already satisfied: triton==2.1.0 in /usr/local/lib/python3.10/dist-packages (from torch) (2.1.0)\n",
            "Requirement already satisfied: MarkupSafe>=2.0 in /usr/local/lib/python3.10/dist-packages (from jinja2->torch) (2.1.3)\n",
            "Requirement already satisfied: mpmath>=0.19 in /usr/local/lib/python3.10/dist-packages (from sympy->torch) (1.3.0)\n"
          ]
        }
      ],
      "source": [
        "pip install torch"
      ]
    },
    {
      "cell_type": "code",
      "execution_count": null,
      "metadata": {
        "colab": {
          "base_uri": "https://localhost:8080/"
        },
        "id": "JJRN0dtWM2cB",
        "outputId": "9fadf689-30f6-460b-c71b-bb489f4abaab"
      },
      "outputs": [
        {
          "name": "stdout",
          "output_type": "stream",
          "text": [
            "Looking in links: https://download.pytorch.org/whl/torch_stable.html\n",
            "\u001b[31mERROR: Could not find a version that satisfies the requirement torch==1.9.0+cu102 (from versions: 1.11.0, 1.11.0+cpu, 1.11.0+cu102, 1.11.0+cu113, 1.11.0+cu115, 1.11.0+rocm4.3.1, 1.11.0+rocm4.5.2, 1.12.0, 1.12.0+cpu, 1.12.0+cu102, 1.12.0+cu113, 1.12.0+cu116, 1.12.0+rocm5.0, 1.12.0+rocm5.1.1, 1.12.1, 1.12.1+cpu, 1.12.1+cu102, 1.12.1+cu113, 1.12.1+cu116, 1.12.1+rocm5.0, 1.12.1+rocm5.1.1, 1.13.0, 1.13.0+cpu, 1.13.0+cu116, 1.13.0+cu117, 1.13.0+cu117.with.pypi.cudnn, 1.13.0+rocm5.1.1, 1.13.0+rocm5.2, 1.13.1, 1.13.1+cpu, 1.13.1+cu116, 1.13.1+cu117, 1.13.1+cu117.with.pypi.cudnn, 1.13.1+rocm5.1.1, 1.13.1+rocm5.2, 2.0.0, 2.0.0+cpu, 2.0.0+cpu.cxx11.abi, 2.0.0+cu117, 2.0.0+cu117.with.pypi.cudnn, 2.0.0+cu118, 2.0.0+rocm5.3, 2.0.0+rocm5.4.2, 2.0.1, 2.0.1+cpu, 2.0.1+cpu.cxx11.abi, 2.0.1+cu117, 2.0.1+cu117.with.pypi.cudnn, 2.0.1+cu118, 2.0.1+rocm5.3, 2.0.1+rocm5.4.2, 2.1.0, 2.1.0+cpu, 2.1.0+cpu.cxx11.abi, 2.1.0+cu118, 2.1.0+cu121, 2.1.0+cu121.with.pypi.cudnn, 2.1.0+rocm5.5, 2.1.0+rocm5.6)\u001b[0m\u001b[31m\n",
            "\u001b[0m\u001b[31mERROR: No matching distribution found for torch==1.9.0+cu102\u001b[0m\u001b[31m\n",
            "\u001b[0m"
          ]
        }
      ],
      "source": [
        "pip install torch==1.9.0+cu102 torchvision==0.10.0+cu102 torchaudio==0.9.0 -f https://download.pytorch.org/whl/torch_stable.html\n"
      ]
    },
    {
      "cell_type": "code",
      "execution_count": null,
      "metadata": {
        "colab": {
          "base_uri": "https://localhost:8080/"
        },
        "id": "jWt0H9KkM7BR",
        "outputId": "de38a86e-d757-4193-8987-8ec26b52b295"
      },
      "outputs": [
        {
          "name": "stdout",
          "output_type": "stream",
          "text": [
            "Collecting transformers\n",
            "  Downloading transformers-4.34.1-py3-none-any.whl (7.7 MB)\n",
            "\u001b[2K     \u001b[90m━━━━━━━━━━━━━━━━━━━━━━━━━━━━━━━━━━━━━━━━\u001b[0m \u001b[32m7.7/7.7 MB\u001b[0m \u001b[31m45.8 MB/s\u001b[0m eta \u001b[36m0:00:00\u001b[0m\n",
            "\u001b[?25hRequirement already satisfied: filelock in /usr/local/lib/python3.10/dist-packages (from transformers) (3.12.4)\n",
            "Collecting huggingface-hub<1.0,>=0.16.4 (from transformers)\n",
            "  Downloading huggingface_hub-0.18.0-py3-none-any.whl (301 kB)\n",
            "\u001b[2K     \u001b[90m━━━━━━━━━━━━━━━━━━━━━━━━━━━━━━━━━━━━━━━━\u001b[0m \u001b[32m302.0/302.0 kB\u001b[0m \u001b[31m21.9 MB/s\u001b[0m eta \u001b[36m0:00:00\u001b[0m\n",
            "\u001b[?25hRequirement already satisfied: numpy>=1.17 in /usr/local/lib/python3.10/dist-packages (from transformers) (1.23.5)\n",
            "Requirement already satisfied: packaging>=20.0 in /usr/local/lib/python3.10/dist-packages (from transformers) (23.2)\n",
            "Requirement already satisfied: pyyaml>=5.1 in /usr/local/lib/python3.10/dist-packages (from transformers) (6.0.1)\n",
            "Requirement already satisfied: regex!=2019.12.17 in /usr/local/lib/python3.10/dist-packages (from transformers) (2023.6.3)\n",
            "Requirement already satisfied: requests in /usr/local/lib/python3.10/dist-packages (from transformers) (2.31.0)\n",
            "Collecting tokenizers<0.15,>=0.14 (from transformers)\n",
            "  Downloading tokenizers-0.14.1-cp310-cp310-manylinux_2_17_x86_64.manylinux2014_x86_64.whl (3.8 MB)\n",
            "\u001b[2K     \u001b[90m━━━━━━━━━━━━━━━━━━━━━━━━━━━━━━━━━━━━━━━━\u001b[0m \u001b[32m3.8/3.8 MB\u001b[0m \u001b[31m89.0 MB/s\u001b[0m eta \u001b[36m0:00:00\u001b[0m\n",
            "\u001b[?25hCollecting safetensors>=0.3.1 (from transformers)\n",
            "  Downloading safetensors-0.4.0-cp310-cp310-manylinux_2_17_x86_64.manylinux2014_x86_64.whl (1.3 MB)\n",
            "\u001b[2K     \u001b[90m━━━━━━━━━━━━━━━━━━━━━━━━━━━━━━━━━━━━━━━━\u001b[0m \u001b[32m1.3/1.3 MB\u001b[0m \u001b[31m70.8 MB/s\u001b[0m eta \u001b[36m0:00:00\u001b[0m\n",
            "\u001b[?25hRequirement already satisfied: tqdm>=4.27 in /usr/local/lib/python3.10/dist-packages (from transformers) (4.66.1)\n",
            "Requirement already satisfied: fsspec>=2023.5.0 in /usr/local/lib/python3.10/dist-packages (from huggingface-hub<1.0,>=0.16.4->transformers) (2023.6.0)\n",
            "Requirement already satisfied: typing-extensions>=3.7.4.3 in /usr/local/lib/python3.10/dist-packages (from huggingface-hub<1.0,>=0.16.4->transformers) (4.5.0)\n",
            "Collecting huggingface-hub<1.0,>=0.16.4 (from transformers)\n",
            "  Downloading huggingface_hub-0.17.3-py3-none-any.whl (295 kB)\n",
            "\u001b[2K     \u001b[90m━━━━━━━━━━━━━━━━━━━━━━━━━━━━━━━━━━━━━━━━\u001b[0m \u001b[32m295.0/295.0 kB\u001b[0m \u001b[31m29.5 MB/s\u001b[0m eta \u001b[36m0:00:00\u001b[0m\n",
            "\u001b[?25hRequirement already satisfied: charset-normalizer<4,>=2 in /usr/local/lib/python3.10/dist-packages (from requests->transformers) (3.3.1)\n",
            "Requirement already satisfied: idna<4,>=2.5 in /usr/local/lib/python3.10/dist-packages (from requests->transformers) (3.4)\n",
            "Requirement already satisfied: urllib3<3,>=1.21.1 in /usr/local/lib/python3.10/dist-packages (from requests->transformers) (2.0.7)\n",
            "Requirement already satisfied: certifi>=2017.4.17 in /usr/local/lib/python3.10/dist-packages (from requests->transformers) (2023.7.22)\n",
            "Installing collected packages: safetensors, huggingface-hub, tokenizers, transformers\n",
            "Successfully installed huggingface-hub-0.17.3 safetensors-0.4.0 tokenizers-0.14.1 transformers-4.34.1\n"
          ]
        }
      ],
      "source": [
        "pip install transformers"
      ]
    },
    {
      "cell_type": "code",
      "execution_count": null,
      "metadata": {
        "id": "uzM2XfCMO2b8"
      },
      "outputs": [],
      "source": [
        "# First we started by creating a dictionary for replacements don't ask me how I managed (:\n",
        "replacements = {\n",
        "    \"hosp.\": \"hospital\",\n",
        "    \"cl.\": \"clinic\",\n",
        "    \"centre\": \"center\",\n",
        "    \"gulanze disp\": \"Gulanze Dispensary\",\n",
        "    \"gulanze dispasary\": \"Gulanze Dispensary\",\n",
        "    \"gulanze dispensary\": \"Gulanze Dispensary\",\n",
        "    \"gynocare\": \"The Nairobi Family And Maternity Hospital Kilgoris Gynocare\",\n",
        "    \"holsoms\": \"Holsoms Maternity & Nursing Home\",\n",
        "    \"hosenta\": \"Hoseenu Health Care Clinic\",\n",
        "    \"hosp chekalini\": \"Chekalini Health Centre\",\n",
        "    \"hq\": \"National Youth Service Hq Dispensary (Ruaraka)\",\n",
        "    \"i just went for clinic to confirm my pregnancy at nearest dispensary kamonka but i have not started to attend clinic yet\": \"Kamonka Dispensary\",\n",
        "    \"i started from nabuala coz of distance i go to aboloi dispensary\": \"Aboloi Dispensary\",\n",
        "    \"ï¿½gombeni\": \"Iriuko Ria Ng'ombe\",\n",
        "    \"ï¿½huka\": \"Iriuko Ria Ng'ombe\",\n",
        "    \"ig\": \"Iriuko Ria Ng'ombe\",\n",
        "    \"igamantudu facility\": \"Igamatundu Dispensary\",\n",
        "    \"igamatudu dispensary\": \"Igamatundu Dispensary\",\n",
        "    \"igamatundu dispesary\": \"Igamatundu Dispensary\",\n",
        "    \"ilatu health center\": \"Ilatu Health Centre (Makindu)\",\n",
        "    \"iranda level 4\": \"Iranda Sub-County Referral Hospital\",\n",
        "    \"iria i\": \"Iriani Dispensary\",\n",
        "    \"irian\": \"Iriani Dispensary\",\n",
        "    \"irian dispensary\": \"Iriani Dispensary\",\n",
        "    \"irigah dispensary\": \"Iriani Dispensary\",\n",
        "    \"iriï¿»ko rï¿®a ng'ombe\": \"Iriuko Ria Ng'ombe\",\n",
        "    \"irioko ria ngombe\": \"Iriuko Ria Ng'ombe\",\n",
        "    \"iriokoriango'mbe\": \"Iriuko Ria Ng'ombe\",\n",
        "    \"iriokoriangombe\": \"Iriuko Ria Ng'ombe\",\n",
        "    \"iriuko ngombe\": \"Iriuko Ria Ng'ombe\",\n",
        "    \"iriuko riang'mbe\": \"Iriuko Ria Ng'ombe\",\n",
        "    \"iriuko riangombe\": \"Iriuko Ria Ng'ombe\",\n",
        "    \"iriuko riangombe dispensary\": \"Iriuko Ria Ng'ombe\",\n",
        "    \"iriuko riangombe dispensery\": \"Iriuko Ria Ng'ombe\",\n",
        "    \"iriuko rwangombe\": \"Iriuko Ria Ng'ombe\",\n",
        "    \"iriukoria ngombe\": \"Iriuko Ria Ng'ombe\",\n",
        "    \"iriukoriangombe\": \"Iriuko Ria Ng'ombe\",\n",
        "    \"iruko ria ngombe\": \"Iriuko Ria Ng'ombe\",\n",
        "    \"kamwangu dispensary\": \"Kamwangu Dispensary\",\n",
        "    \"ondati health center\": \"Ondati Health Center\",\n",
        "    \"bumala b ondati health center\": \"Bumala B Health Centre\",\n",
        "    \"bumala a health centre\": \"Bumala A Health Centre\",\n",
        "    \"misesi\": \"Misesi Sub County Hospital\",\n",
        "    \"nyakegogi disp\": \"Nyakegogi Dispensary\",\n",
        "    \"gatue model gatuoga\": \"Gatunga Model Health Centre\",\n",
        "    \"gatue,\": \"Gatuune Dispensary\",\n",
        "    \"mareba\": \"Marere Medical Centre Kinango\",\n",
        "    \"gatung a misene\": \"Gatunga Model Health Centre\",\n",
        "    \"gatunga catholic\": \"Gatunga Model Health Centre\",\n",
        "    \"gatunga catholic health center\": \"Gatunga Model Health Centre\",\n",
        "    \"gatunga ccm health center\": \"Gatunga Model Health Centre\",\n",
        "    \"gesusu level 5\": \"Gesusu Sub-County Referral Hospital\",\n",
        "    \"gombato\": \"Gombato Dispensary (CDF)\",\n",
        "    \"gsch\": \"Gucha Sub County Referral Hospital\",\n",
        "    \"gucha district hospital\": \"Gucha Sub County Referral Hospital\",\n",
        "    \"gulanze\": \"Gulanze Dispensary\",\n",
        "    \"kocholya\": \"Kocholia Hoplie Medical Center\",\n",
        "    \"kocholia\": \"Kocholia Hoplie Medical Center\",\n",
        "    \"ndetani\": \"Ndetani Olive Health Care Services\",\n",
        "    \"eshimukoko h/c\": \"Eshimukoko Health Centre\",\n",
        "    \"malaha facility\": \"Malaha Dispensary\",\n",
        "    \"eshimukoko health center\": \"Eshimukoko Health Centre\",\n",
        "    \"eshimukoko health/c\": \"Eshimukoko Health Centre\",\n",
        "    \"eshivimbi health center\": \"Eshibimbi Health Centre\",\n",
        "    \"faith dispensary\": \"Bethel Faith Dispensary\",\n",
        "    \"faith dispensery\": \"Bethel Faith Dispensary\",\n",
        "    \"faith health center\": \"Bethel Faith Dispensary\",\n",
        "    \"faith thanatu muthima\": \"Bethel Faith Dispensary\",\n",
        "    \"gachiongo dispenciary\": \"Gaciongo Dispensary (Kirinyaga)\",\n",
        "    \"gachiongo dispensary\": \"Gaciongo Dispensary (Kirinyaga)\",\n",
        "    \"gaï¿§hioï¿±go dispensary;\": \"Gaciongo Dispensary (Kirinyaga)\",\n",
        "    \"gandini\": \"Gandini Dispensary\",\n",
        "    \"gandini dispensary\": \"Gandini Dispensary\",\n",
        "    \"gathini\": \"Ngathini Dispensary\",\n",
        "    \"gatithini\": \"Ngathini Dispensary\",\n",
        "    \"gatue\": \"Gatuune Dispensary\",\n",
        "    \"gatue dispensary\": \"Gatuune Dispensary\",\n",
        "    \"gatue health center\": \"Gatunga Model Health Centre\",\n",
        "    \"gatue model\": \"Gatunga Model Health Centre\",\n",
        "    \"thongoni\": \"Nthongoni Health Centre\",\n",
        "    \"thongoni health center\": \"Nthongoni Health Centre\",\n",
        "    \"timbwani\": \"Consolata Sisters Timbwani Dispensary (Stella Maris)\",\n",
        "    \"tiwi rural health center\": \"Tiwi RHTC\",\n",
        "    \"tongaren health center\": \"Tongaren Model Health Centre\",\n",
        "    \"trhtc\": \"Tiwi RHTC\",\n",
        "    \"tulima i health center\": \"Tulimani Health Centre\",\n",
        "    \"tumaini\": \"Tumaini Children's Medical Clinic\",\n",
        "    \"tumaini center\": \"Tumaini Children's Medical Clinic\",\n",
        "    \"turbo\": \"National Youth Service Dispensary (Turbo)\",\n",
        "    \"utuneni\": \"Utuneni Dispensary\",\n",
        "    \"utuneni dispensary\": \"Utuneni Dispensary\",\n",
        "    \"varna\": \"Verna Health Centre\",\n",
        "    \"verna\": \"Verna Health Centre\",\n",
        "    \"viagurungani\": \"Vigurungani Dispensary\",\n",
        "    \"viguqungani\": \"Vigurungani Dispensary\",\n",
        "    \"vitsangalaeni\": \"Vitsangalaweni Dispensary\",\n",
        "    \"vitsangalawen\": \"Vitsangalaweni Dispensary\",\n",
        "    \"vitstangalaweni\": \"Vitsangalaweni Dispensary\",\n",
        "    \"was dispensary\": \"Waa Dispensary\",\n",
        "    \"nyamache\": \"Nyamache Sub County Referral Hospital\",\n",
        "    \"weeru dispensary\": \"Weru Dispensary (Muthambi)\",\n",
        "    \"wote\": \"Wote Health Clinic\",\n",
        "    \"wote health center\": \"Wote Health Clinic\",\n",
        "    \"kibunguchi\": \"Kibubuti Dispensary\",\n",
        "    \"makueni county refferal hospital\": \"Makueni County Referral Hospital\",\n",
        "    \"muhobola\": \"Mukhobola Health Centre\",\n",
        "    \"kanzokea heath care\": \"Kanzokea Health Centre\",\n",
        "    \"mukhobola sub-county hospital\": \"Mukhobola Health Centre\",\n",
        "    \"nthongoni\": \"Nthongoni Health Centre\",\n",
        "    \"bola sub-county hospital\": \"Mukhobola Health Centre\",\n",
        "    \"kisayani facility\": \"Kisayani Medical Clinic (Kibwezi west)\",\n",
        "    \"kyanga d\": \"Kyanganda Dispensary\",\n",
        "    \"kyambeke healh center\": \"Kyambeke Health Centre\",\n",
        "    \"eshibimbi\": \"Eshibimbi Health Centre\",\n",
        "    \"eshikalame health center\": \"Eshikalame Dispensary\",\n",
        "    \"eshikalame health. center\": \"Eshikalame Dispensary\",\n",
        "    \"eshimkoko\": \"Eshimukoko Health Centre\",\n",
        "    \"eshimkoko health center\": \"Eshimukoko Health Centre\",\n",
        "    \"eshimukoko\": \"Eshimukoko Health Centre\",\n",
        "    \"ngombeni dispensary\": \"Ng'ombeni Dispensary\",\n",
        "    \"msambwen hnsp\": \"Msambweni County Referral Hospital\",\n",
        "    \"makinadispesary\": \"Makina Clinic\",\n",
        "    \"kocholia\": \"Kocholia Hoplie Medical Center\",\n",
        "    \"bulanda rc\": \"Bulondo Dispensary\",\n",
        "    \"making sub-county hospital\": \"Makindu sub-county hospital\",\n",
        "    \"bumala b health center\": \"bumala b health center\",\n",
        "    \"bumala a health center\": \"bumala a health center\",\n",
        "    \"hosenta\": \"Hoseenu Health Care Clinic\",\n",
        "    \"kanyungu\": \"Kanyungu Dispensary\",\n",
        "    \"kanyungu dispensary\": \"Kanyungu Dispensary\",\n",
        "    \"bosnia health center\": \"Bosnia Dispensary\",\n",
        "    \"athi_kamunyuni unity\": \"Athi Kamunyuni Health Centre\",\n",
        "    \"bushili\": \"Bushiri Health Centre\",\n",
        "    \"bulanda\": \"Bulondo Dispensary\",\n",
        "    \"bulanda rc\": \"Bulondo Dispensary\",\n",
        "    \"bulodo\": \"Bulondo Dispensary\",\n",
        "    \"bumtiru dispensari\": \"Bumutiru Dispensary\",\n",
        "    \"chamuga\": \"Chamunga Dispensary\",\n",
        "    \"chomboli kliniki\": \"Chombeli Health Centre\",\n",
        "    \"christine iteba keumbu general\": \"Keumbu Sub County Hospital\",\n",
        "    \"Nthongoni\": \"Nthongoni Health Centre\",\n",
        "    \"NTHONGONI\": \"Nthongoni Health Centre\",\n",
        "    \"subcounty\": \"sub-county\",\n",
        "    \"sub county\": \"sub-county\",\n",
        "    \"medel\": \"model\",\n",
        "    \"mukhobola\": \"Mukhobola Health Centre\",\n",
        "    \"mukhobula\": \"Mukhobola Health Centre\",\n",
        "    \"masongalen\": \"Masongaleni Health Centre\",\n",
        "    \"nduru level 4\": \"Nduru Sub County Referral Hospital\",\n",
        "    \"masongaleni health centrei hc\": \"Masongaleni Health Centre\",\n",
        "    \"masongaleni health centrei h.c\": \"Masongaleni Health Centre\",\n",
        "    \"masongaleni health centrei hc\": \"Masongaleni Health Centre\",\n",
        "    \"masongaleni health centrei ondati health center\": \"Masongaleni Health Centre\",\n",
        "    \"masongaleni health centrei\": \"Masongaleni Health Centre\",\n",
        "    \"masongalen hc\": \"Masongaleni Health Centre\",\n",
        "    \"masongalen Hc\": \"Masongaleni Health Centre\",\n",
        "    \"masongaleni health centrei hlth center\": \"Masongaleni Health Centre\",\n",
        "    \"ang'urai healthcenter\": \"Ang'urai Health Centre\",\n",
        "    \"angurai healthcenter\": \"Ang'urai Health Centre\",\n",
        "    \"ang'urai healthcenter\": \"Ang'urai Health Centre\",\n",
        "    \"tnsch\": \"Teso North Sub County Hospital\",\n",
        "    \"TNSCH\":\"Teso North Sub County Hospital\"\n",
        "    \"Kambu\": \"Kambu Catholic Dispensary\",\n",
        "    \"Kathangachini\":\"Kathangacini Health Centre\",\n",
        "    \"Making sub county hospital\":\"Makindu Dispensary\"\n",
        "}\n"
      ]
    },
    {
      "cell_type": "code",
      "execution_count": null,
      "metadata": {
        "colab": {
          "background_save": true
        },
        "id": "5dViG-aZDEKC"
      },
      "outputs": [],
      "source": [
        "import pandas as pd\n",
        "from fuzzywuzzy import fuzz\n",
        "from sklearn.feature_extraction.text import TfidfVectorizer\n",
        "from sklearn.metrics.pairwise import linear_kernel\n",
        "import concurrent.futures\n",
        "import re\n",
        "\n",
        "\n",
        "\n",
        "# Function to preprocess a facility name\n",
        "def preprocess_facility_name(name):\n",
        "    # Apply the replacements\n",
        "    for key, value in replacements.items():\n",
        "        name = name.replace(key, value)\n",
        "\n",
        "    # Converted to lowercase and remove extra spacing\n",
        "    name = name.lower()\n",
        "    name = re.sub(r'\\s+', ' ', name).strip()\n",
        "\n",
        "    return name\n",
        "\n",
        "# Function to calculate text similarity using TF-IDF and cosine similarity\n",
        "def calculate_text_similarity(names, query):\n",
        "    vectorizer = TfidfVectorizer()\n",
        "    tfidf_matrix = vectorizer.fit_transform(names)\n",
        "    query_tfidf = vectorizer.transform([query])\n",
        "    cosine_similarities = linear_kernel(query_tfidf, tfidf_matrix).flatten()\n",
        "    return cosine_similarities\n",
        "\n",
        "# Function to find the closest match for a single name\n",
        "def find_closest_match(name, clean_names):\n",
        "    if name.strip() == '':\n",
        "        return None  # Skip empty strings\n",
        "\n",
        "    # Here we preprocess the name\n",
        "    name = preprocess_facility_name(name)\n",
        "\n",
        "    # Then calculate text similarity scores\n",
        "    name_scores = calculate_text_similarity(clean_names, name)\n",
        "\n",
        "    # Find the index of the highest name similarity score\n",
        "    max_name_index = name_scores.argmax()\n",
        "\n",
        "    # Check if the name similarity score meets the custom threshold\n",
        "    if name_scores[max_name_index] >= 0.68:\n",
        "        return clean_names[max_name_index]\n",
        "    else:\n",
        "        return None  # Skip if the match is not strong enough\n",
        "\n",
        "# List of clean facility names in df_HF\n",
        "clean_facility_names = df_HF[\"Facility_Name_KHIS\"].tolist()\n",
        "\n",
        "# Preprocessing the 'Mum_facility' column in df_clean\n",
        "# df_clean['Mum_facility'] = df_clean['Mum_facility'].apply(preprocess_facility_name)\n",
        "\n",
        "# Function to apply fuzzy matching using parallel processing with batch processing\n",
        "def apply_fuzzy_matching_batch(names, batch_size):\n",
        "    num_batches = (len(names) + batch_size - 1) // batch_size\n",
        "    results = []\n",
        "\n",
        "    with concurrent.futures.ProcessPoolExecutor() as executor:\n",
        "        for i in range(num_batches):\n",
        "            batch_start = i * batch_size\n",
        "            batch_end = min((i + 1) * batch_size, len(names))\n",
        "            batch_names = names[batch_start:batch_end]\n",
        "            batch_results = list(executor.map(find_closest_match, batch_names, [clean_facility_names]*len(batch_names)))\n",
        "            results.extend(batch_results)\n",
        "\n",
        "    return results\n",
        "\n",
        "# Batch processing size\n",
        "batch_size = 100\n",
        "\n",
        "# Apply matching using parallel processing with batch processing to df_clean\n",
        "df_clean['Health_Facility_Clean_Name'] = apply_fuzzy_matching_batch(df_clean['Mum_facility'], batch_size)\n"
      ]
    },
    {
      "cell_type": "code",
      "execution_count": null,
      "metadata": {
        "colab": {
          "background_save": true
        },
        "id": "fUDKAdNY1bZu"
      },
      "outputs": [],
      "source": [
        "import pandas as pd\n",
        "from fuzzywuzzy import fuzz\n",
        "import re\n",
        "\n",
        "# County mapping dictionary\n",
        "county_mapping = {\n",
        "    'kk': 'Kakamega',\n",
        "    'kwo': 'Kwale',\n",
        "    'ks': 'Kisii',\n",
        "    'kw': 'Kwale',\n",
        "    'mg': 'Migori',\n",
        "    'bs': 'Busia',\n",
        "    'th': 'Tharaka-Nithi',\n",
        "    'kyambeke': 'Makueni',\n",
        "    'kk111': 'Kakamega',\n",
        "    'ks01': 'Kisii',\n",
        "    'ks63': 'Kisii',\n",
        "    'mk21': 'Makueni',\n",
        "    'bs9': 'Busia',\n",
        "    'mk21': 'Makueni',\n",
        "    'id mk21': 'Makueni',\n",
        "    'chv kk111': 'Kakamega',\n",
        "    'bs7': 'Busia',\n",
        "    '12903503 kk28': 'Kakamega',\n",
        "    '21884, kk38': 'Kakamega',\n",
        "    'vitsangalaweni': 'Kwale',\n",
        "    'MATAYOS': 'Busia',\n",
        "    'KK485': 'Kakamega',\n",
        "    'BG : 52': 'Bungoma',\n",
        "    'bg': 'Bungoma',\n",
        "}\n",
        "\n",
        "# Created a 'clean_county' column initially filled with NaN\n",
        "df_clean['clean_county'] = None\n",
        "\n",
        "# Then created a function to preprocess the 'Mum_facility' column and populate the 'clean_county_ref' column\n",
        "def preprocess_facility_and_county_ref(row):\n",
        "    county = row['County']\n",
        "    return county if county not in {'null', '12240', ''} else None\n",
        "\n",
        "# Function to fill county names based on CHV_ID\n",
        "def fill_county_by_chv(row):\n",
        "    if pd.isna(row['clean_county_ref']):\n",
        "        chv_id = row['CHV_ID'].lower()\n",
        "\n",
        "        for prefix, county in county_mapping.items():\n",
        "            pattern = re.compile(rf'\\b{re.escape(prefix)}\\b', re.IGNORECASE)\n",
        "            if pattern.search(chv_id):\n",
        "                return county\n",
        "    return row['clean_county_ref']\n",
        "\n",
        "# Apply preprocessing and filling functions\n",
        "df_clean['clean_county_ref'] = df_clean.apply(preprocess_facility_and_county_ref, axis=1)\n",
        "df_clean['clean_county'] = df_clean.apply(fill_county_by_chv, axis=1)\n",
        "\n",
        "# Perform a VLOOKUP-like operation using Health_Facility_Clean_Name as the reference point\n",
        "def vlookup_county(row):\n",
        "    matching_row = df_HF[df_HF['Facility_Name_KHIS'] == row['Health_Facility_Clean_Name']]\n",
        "    if not matching_row.empty:\n",
        "        county = matching_row.iloc[0]['County']\n",
        "        return county\n",
        "    return row['clean_county']\n",
        "\n",
        "# Fill missing counties using the VLOOKUP-like operation\n",
        "df_clean['clean_county'] = df_clean.apply(vlookup_county, axis=1)\n",
        "\n",
        "# Function to fill remaining blanks in 'clean_county' using fuzzy string matching\n",
        "def fuzzy_match_county(row):\n",
        "    if pd.isna(row['clean_county']):\n",
        "        chv_id = row['CHV_ID'].lower()\n",
        "\n",
        "        best_ratio = 0\n",
        "        best_county = None\n",
        "\n",
        "        for prefix, county in county_mapping.items():\n",
        "            ratio = fuzz.ratio(chv_id, prefix)\n",
        "            if ratio > best_ratio:\n",
        "                best_ratio = ratio\n",
        "                best_county = county\n",
        "\n",
        "        if best_county and best_ratio >= 65:  # Adjust the threshold as needed\n",
        "            return best_county\n",
        "\n",
        "    return row['clean_county']\n",
        "\n",
        "# Apply fuzzy matching to fill remaining null counties\n",
        "df_clean['clean_county'] = df_clean.apply(fuzzy_match_county, axis=1)\n",
        "\n",
        "# Create 'Cleaned_County_Field' that takes data from 'clean_county_ref' or 'clean_county' if null or empty\n",
        "df_clean['Cleaned_County_Field'] = df_clean['clean_county_ref'].combine_first(df_clean['clean_county'])\n",
        "\n",
        "# Optionally, you can drop the intermediary columns if not needed\n",
        "# df_clean.drop(['clean_county_ref'], axis=1, inplace=True)\n"
      ]
    },
    {
      "cell_type": "code",
      "execution_count": null,
      "metadata": {
        "colab": {
          "background_save": true
        },
        "id": "PuA9sfXf_TBf"
      },
      "outputs": [],
      "source": [
        "# Drop the specified columns\n",
        "df_clean.drop(['clean_county', 'clean_county_ref'], axis=1, inplace=True)"
      ]
    },
    {
      "cell_type": "code",
      "execution_count": null,
      "metadata": {
        "colab": {
          "background_save": true
        },
        "id": "7mKuMrF6vv0V",
        "outputId": "5f20bbc2-26f0-40e7-cdef-7792cd85f5cd"
      },
      "outputs": [
        {
          "data": {
            "application/javascript": [
              "\n",
              "    async function download(id, filename, size) {\n",
              "      if (!google.colab.kernel.accessAllowed) {\n",
              "        return;\n",
              "      }\n",
              "      const div = document.createElement('div');\n",
              "      const label = document.createElement('label');\n",
              "      label.textContent = `Downloading \"${filename}\": `;\n",
              "      div.appendChild(label);\n",
              "      const progress = document.createElement('progress');\n",
              "      progress.max = size;\n",
              "      div.appendChild(progress);\n",
              "      document.body.appendChild(div);\n",
              "\n",
              "      const buffers = [];\n",
              "      let downloaded = 0;\n",
              "\n",
              "      const channel = await google.colab.kernel.comms.open(id);\n",
              "      // Send a message to notify the kernel that we're ready.\n",
              "      channel.send({})\n",
              "\n",
              "      for await (const message of channel.messages) {\n",
              "        // Send a message to notify the kernel that we're ready.\n",
              "        channel.send({})\n",
              "        if (message.buffers) {\n",
              "          for (const buffer of message.buffers) {\n",
              "            buffers.push(buffer);\n",
              "            downloaded += buffer.byteLength;\n",
              "            progress.value = downloaded;\n",
              "          }\n",
              "        }\n",
              "      }\n",
              "      const blob = new Blob(buffers, {type: 'application/binary'});\n",
              "      const a = document.createElement('a');\n",
              "      a.href = window.URL.createObjectURL(blob);\n",
              "      a.download = filename;\n",
              "      div.appendChild(a);\n",
              "      a.click();\n",
              "      div.remove();\n",
              "    }\n",
              "  "
            ],
            "text/plain": [
              "<IPython.core.display.Javascript object>"
            ]
          },
          "metadata": {},
          "output_type": "display_data"
        },
        {
          "data": {
            "application/javascript": [
              "download(\"download_1f044d49-8abb-4662-a58f-a1ca192f8703\", \"df_clean_chv.csv\", 1245749)"
            ],
            "text/plain": [
              "<IPython.core.display.Javascript object>"
            ]
          },
          "metadata": {},
          "output_type": "display_data"
        }
      ],
      "source": [
        "from google.colab import files\n",
        "\n",
        "# Save the DataFrame as a CSV file\n",
        "df_clean.to_csv('df_clean_chv.csv', index=False)\n",
        "\n",
        "# Download the CSV file from Colab\n",
        "files.download('df_clean_chv.csv')\n"
      ]
    },
    {
      "cell_type": "code",
      "execution_count": null,
      "metadata": {
        "colab": {
          "background_save": true
        },
        "id": "m-lz6m0gfysG"
      },
      "outputs": [],
      "source": [
        "\n",
        "\n",
        "# This block of codes reads the cleaned data to a new worksheet in the same workbook in our drive\n",
        "\n",
        "# Add the new worksheet and update data to it\n",
        "def add_data_to_worksheet(dataframe, workbook_name, existing_worksheet_name, new_worksheet_name, default_num_rows=100, default_num_cols=20):\n",
        "    # Get the shape of the DataFrame (number of rows and columns)\n",
        "    num_rows, num_cols = dataframe.shape\n",
        "\n",
        "    # Determine the number of rows and columns for the new worksheet\n",
        "    rows = num_rows if num_rows > default_num_rows else default_num_rows\n",
        "    cols = num_cols if num_cols > default_num_cols else default_num_cols\n",
        "\n",
        "    # Open the workbook and existing worksheet\n",
        "    workbook = gc.open(workbook_name)\n",
        "    worksheet = workbook.worksheet(existing_worksheet_name)\n",
        "\n",
        "    # Add the new worksheet with the determined number of rows and columns\n",
        "    new_worksheet = workbook.add_worksheet(title=new_worksheet_name, rows=rows, cols=cols)\n",
        "\n",
        "    # Convert DataFrame data to a list of lists with all float values formatted as strings\n",
        "    data_to_insert = dataframe.astype(str).values.tolist()\n",
        "\n",
        "    # Insert header row and data to the new worksheet\n",
        "    new_worksheet.update('A1', [dataframe.columns.tolist()] + data_to_insert)\n",
        "\n",
        "# Example usage\n",
        "# Assuming you have your DataFrame named df_clean\n",
        "add_data_to_worksheet(df_clean, workbook_name='CHV_Enrollments_20230601', existing_worksheet_name='CHV_Enrollments_Tracker', new_worksheet_name='Clean_Data_D', default_num_rows=100, default_num_cols=20)\n"
      ]
    }
  ],
  "metadata": {
    "colab": {
      "provenance": []
    },
    "kernelspec": {
      "display_name": "Python 3",
      "name": "python3"
    },
    "language_info": {
      "name": "python"
    }
  },
  "nbformat": 4,
  "nbformat_minor": 0
}